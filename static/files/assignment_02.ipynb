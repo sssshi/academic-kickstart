{
 "cells": [
  {
   "cell_type": "markdown",
   "metadata": {},
   "source": [
    "<font face=\"微软雅黑\" size=5> a.divide the dataset as development and test"
   ]
  },
  {
   "cell_type": "code",
   "execution_count": 1,
   "metadata": {},
   "outputs": [],
   "source": [
    "from csv import reader\n",
    "import random\n",
    "\n",
    "def load_csv(filename):\n",
    "    dataset = list()\n",
    "    with open(filename, 'r') as file:\n",
    "        csv_reader = reader(file)\n",
    "        for row in csv_reader:\n",
    "            if not row:\n",
    "                continue\n",
    "            dataset.append(row)\n",
    "    return dataset\n",
    "\n",
    "filename = \"/Users/ssssshi/Desktop/Arlington/DM/assignment2/iris.csv\"\n",
    "dataset = load_csv(filename)\n",
    "# print(\"dataset is: \",dataset)\n",
    "\n",
    "\n",
    "def separate_data(dataset,proportion):\n",
    "    total_len = len(dataset)\n",
    "    dev_len = int(total_len * proportion)\n",
    "    indexList = range(total_len)\n",
    "    randomIndex = random.sample(indexList,dev_len)\n",
    "    dev_data = list()\n",
    "    test_data = list()\n",
    "    test_data = dataset\n",
    "    for i in randomIndex:\n",
    "        dev_data.append(dataset[i])\n",
    "    randomIndex.sort(reverse = True)\n",
    "    for i in randomIndex:\n",
    "        test_data.pop(i)\n",
    "    return dev_data,test_data\n",
    "\n",
    "dev_data, test_data = separate_data(dataset,0.5)\n",
    "\n",
    "# print(\"dev_data is :\",dev_data )\n",
    "# print(\"test_data is :\",test_data)"
   ]
  },
  {
   "cell_type": "markdown",
   "metadata": {},
   "source": [
    "<font face=\"微软雅黑\" size=5> b.Implement kNN using hyperparameters"
   ]
  },
  {
   "cell_type": "code",
   "execution_count": 2,
   "metadata": {},
   "outputs": [],
   "source": [
    "import math\n",
    "\n",
    "def neighbor(algorithm,distance, k,choose):\n",
    "    if choose == 3:\n",
    "        #print(\"eu\")\n",
    "        sort_distance = sorted(distance.items(),key=lambda kv:(kv[1],kv[0]),reverse=True)\n",
    "    else:\n",
    "        sort_distance = sorted(distance.items(),key=lambda kv:(kv[1],kv[0]))\n",
    "    k_distance = sort_distance[:k]\n",
    "    value_number = dict()\n",
    "    for i in range(len(k_distance)):\n",
    "        if k_distance[i][0][4] not in value_number:\n",
    "            value_number[k_distance[i][0][4]] = 0\n",
    "        value_number[k_distance[i][0][4]] = value_number[k_distance[i][0][4]] + 1\n",
    "    value_number = sorted(value_number.items(), key=lambda d: d[1], reverse=True)\n",
    "    # print(value_number)\n",
    "    return value_number[0][0]\n",
    "\n",
    "def euclidean_distance(data_a,data_b):\n",
    "    #print(data_a)\n",
    "    sum = 0\n",
    "    for i in range(len(data_a) - 1):\n",
    "        sum+=(data_a[i]-data_b[i])**2\n",
    "    return math.sqrt(sum)\n",
    "\n",
    "def mean(numbers):\n",
    "    return sum(numbers) / float(len(numbers))\n",
    "\n",
    "# Calculate the standard deviation of a list of numbers\n",
    "def stdev(numbers):\n",
    "    avg = mean(numbers)\n",
    "    variance = sum([(x - avg) ** 2 for x in numbers]) / float(len(numbers) - 1)\n",
    "    return math.sqrt(variance)\n",
    "\n",
    "def normalized_euclidean_distance(data_a,data_b):\n",
    "    sumnum = 0\n",
    "    for i in range(len(data_a)-1):\n",
    "        avg = (data_a[i]-data_b[i])/2\n",
    "        si = math.sqrt( (data_a[i] - avg) ** 2 + (data_b[i] - avg) ** 2 )\n",
    "        sumnum += ((data_a[i]-data_b[i])/si ) ** 2\n",
    "    return math.sqrt(sumnum)\n",
    "    \n",
    "def cosine_similarity_distance(data_a,data_b):\n",
    "    sum_fenzi = 0.0\n",
    "    sum_fenmu_1,sum_fenmu_2 = 0,0\n",
    "    for i in range(len(data_a)-1):\n",
    "        sum_fenzi += data_a[i]*data_b[i]\n",
    "        sum_fenmu_1 += data_a[i]**2 \n",
    "        sum_fenmu_2 += data_b[i]**2 \n",
    "        \n",
    "    return sum_fenzi/( math.sqrt(sum_fenmu_1) * math.sqrt(sum_fenmu_2) )\n",
    " \n",
    "    "
   ]
  },
  {
   "cell_type": "markdown",
   "metadata": {},
   "source": [
    "<font face=\"微软雅黑\" size=5> c.Using development dataset"
   ]
  },
  {
   "cell_type": "code",
   "execution_count": 3,
   "metadata": {},
   "outputs": [
    {
     "name": "stdout",
     "output_type": "stream",
     "text": [
      "eu Scores: [94.66666666666667, 96.0, 97.33333333333334, 97.33333333333334]\n",
      "nor Scores: [94.66666666666667, 94.66666666666667, 97.33333333333334, 98.66666666666667]\n",
      "co Scores: [96.0, 97.33333333333334, 97.33333333333334, 97.33333333333334]\n",
      "best_parameter is: ['normalized_euclidean_distanceor', '7', '98.66666666666667']\n"
     ]
    },
    {
     "data": {
      "image/png": "[encoded data removed]",
      "text/plain": [
       "<Figure size 432x288 with 1 Axes>"
      ]
     },
     "metadata": {
      "needs_background": "light"
     },
     "output_type": "display_data"
    }
   ],
   "source": [
    "import matplotlib.pyplot as plt\n",
    "%matplotlib inline\n",
    "\n",
    "def str_column_to_float(dataset, column):\n",
    "    for row in dataset:\n",
    "        row[column] = float(row[column].strip())\n",
    "\n",
    "def predic(dev_data,algorithm,k,choose,*args):\n",
    "    all_distance = dict()\n",
    "    label = list()\n",
    "    for i in range(len(dev_data)):\n",
    "        data_1 = dev_data[i][:4]\n",
    "        for j in range(len(dev_data)):            \n",
    "            if j != i:\n",
    "                data_2 = dev_data[j][:4]\n",
    "                distance = algorithm(data_1,data_2,*args)\n",
    "                dev = tuple(dev_data[j])\n",
    "                all_distance[dev] = distance \n",
    "        label.append(neighbor(algorithm,all_distance,k,choose))\n",
    "    return label\n",
    "\n",
    "def accuracy_metric(actual, predicted):\n",
    "    correct = 0\n",
    "    for i in range(len(actual)):\n",
    "        if actual[i] == predicted[i]:\n",
    "            correct += 1\n",
    "    return correct / float(len(actual)) * 100.0\n",
    "            \n",
    "\n",
    "for i in  range(len(dev_data[0]) - 1):\n",
    "    str_column_to_float(dev_data,i)\n",
    "    \n",
    "# dev_data = [[1,3,5,2],[2,5,7,4],[2,3,5,7]]\n",
    "# label1 = predic(dev_data,euclidean_distance,2)\n",
    "\n",
    "\n",
    "# print(\"label:\", len(predic(dev_data,euclidean_distance,1)))\n",
    "actual = list()\n",
    "for i in range(len(dev_data)):\n",
    "    actual.append(dev_data[i][-1])\n",
    "    \n",
    "euclidean_distance_score = list()\n",
    "normalized_euclidean_distance_score = list()\n",
    "cosine_similarity_distance_score = list()\n",
    "K = [1,3,5,7]\n",
    "best_parameter = [\"\",\"\",\"0\"]\n",
    "for i in range(len(K)):\n",
    "    scores = accuracy_metric(actual,predic(dev_data,euclidean_distance,K[i],1))\n",
    "    euclidean_distance_score.append(scores)\n",
    "    if scores > float(best_parameter[2]):\n",
    "        best_parameter[0] = \"euclidean_distance\"\n",
    "        best_parameter[1] = str(K[i])\n",
    "        best_parameter[2] = str(scores)\n",
    "       \n",
    "print('eu Scores: %s' % euclidean_distance_score)\n",
    "\n",
    "for i in range(len(K)):\n",
    "    scores = accuracy_metric(actual,predic(dev_data,normalized_euclidean_distance,K[i],2))\n",
    "    normalized_euclidean_distance_score.append(scores)\n",
    "    if scores > float(best_parameter[2]):\n",
    "        best_parameter[0] = \"normalized_euclidean_distanceor\"\n",
    "        best_parameter[1] = str(K[i])\n",
    "        best_parameter[2] = str(scores)\n",
    "print('nor Scores: %s' % normalized_euclidean_distance_score)\n",
    "\n",
    "for i in range(len(K)):\n",
    "    scores = accuracy_metric(actual,predic(dev_data,cosine_similarity_distance,K[i],3))\n",
    "    cosine_similarity_distance_score.append(scores)\n",
    "    if scores > float(best_parameter[2]):\n",
    "        best_parameter[0] = \"cosine_similarity_distance\"\n",
    "        best_parameter[1] = str(K[i])\n",
    "        best_parameter[2] = str(scores)\n",
    "print('co Scores: %s' % cosine_similarity_distance_score)\n",
    "\n",
    "print(\"best_parameter is:\", best_parameter)\n",
    "\n",
    "plt.plot(K,euclidean_distance_score,color = 'g')\n",
    "plt.plot(K,normalized_euclidean_distance_score,color='r')\n",
    "plt.plot(K,cosine_similarity_distance_score,color='b')\n",
    "plt.xlabel(\"accuracy\")\n",
    "plt.ylabel(\"K\")\n",
    "plt.show()"
   ]
  },
  {
   "cell_type": "markdown",
   "metadata": {},
   "source": [
    "<font face=\"微软雅黑\" size=5> d.Using the test dataset"
   ]
  },
  {
   "cell_type": "code",
   "execution_count": 4,
   "metadata": {},
   "outputs": [
    {
     "name": "stdout",
     "output_type": "stream",
     "text": [
      "best number of neighbor K:  7\n",
      "best distance metric:  normalized_euclidean_distanceor\n",
      "final score is: 92.0\n"
     ]
    }
   ],
   "source": [
    "print(\"best number of neighbor K: \",best_parameter[1])\n",
    "print(\"best distance metric: \",best_parameter[0])\n",
    "\n",
    "for i in  range(len(test_data[0]) - 1):\n",
    "    str_column_to_float(test_data,i)\n",
    "    \n",
    "actual = list()\n",
    "for i in range(len(test_data)):\n",
    "    actual.append(test_data[i][-1])\n",
    "    \n",
    "for i in range(len(best_parameter)):\n",
    "    if best_parameter[0] == 'cosine_similarity_distance':\n",
    "        scores = accuracy_metric(actual,predic(test_data,cosine_similarity_distance,int(best_parameter[1]),3))\n",
    "    elif best_parameter[0] == 'normalized_euclidean_distanceor':\n",
    "        scores = accuracy_metric(actual,predic(test_data,normalized_euclidean_distance,int(best_parameter[1]),2))\n",
    "    else:\n",
    "        scores = accuracy_metric(actual,predic(test_data,euclidean_distance,int(best_parameter[1]),1))\n",
    "print(\"final score is:\",scores)"
   ]
  }
 ],
 "metadata": {
  "kernelspec": {
   "display_name": "Python 3",
   "language": "python",
   "name": "python3"
  },
  "language_info": {
   "codemirror_mode": {
    "name": "ipython",
    "version": 3
   },
   "file_extension": ".py",
   "mimetype": "text/x-python",
   "name": "python",
   "nbconvert_exporter": "python",
   "pygments_lexer": "ipython3",
   "version": "3.7.3"
  },
  "toc": {
   "base_numbering": 1,
   "nav_menu": {},
   "number_sections": true,
   "sideBar": true,
   "skip_h1_title": false,
   "title_cell": "Table of Contents",
   "title_sidebar": "Contents",
   "toc_cell": false,
   "toc_position": {},
   "toc_section_display": true,
   "toc_window_display": false
  }
 },
 "nbformat": 4,
 "nbformat_minor": 2
}
